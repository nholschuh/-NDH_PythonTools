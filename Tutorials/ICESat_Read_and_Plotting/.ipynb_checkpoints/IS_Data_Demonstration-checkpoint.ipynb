{
 "cells": [
  {
   "cell_type": "markdown",
   "id": "2f41910c-011f-4cef-a406-ce251863eacd",
   "metadata": {},
   "source": [
    "# ICESat Data Tutorial\n",
    "---\n",
    "This notebook is designed to give you a first look at ICESat data (the Ice, Cloud, and land Elevation Satellite). There are a range of data products generated from the raw output of the instrument, which fall into categories defined by the processing level:\n",
    "\n",
    "* L1a -- Reconstructed, unprocessed data at full resolution (no sane person would ever look at L0 data)\n",
    "* L1b -- [The lowest level we would ever look at] -- Derived geophysical parameters at the same resolution as the L1a data\n",
    "* L2  -- [The most common level to use] -- Data, derived from L1b products, that has been spatially or temporally resampled, and analyzed for additional geophysical properties.\n",
    "\n",
    "<br>\n",
    "We will be focused on a single L2 product:\n",
    "\n",
    "* GLAH12  -- Ice Sheet Products (like surface elevation) are stored in the GLAH12 file, which is what we are using here.\n",
    "\n",
    "The data dictionary (which contains a full breakdown of variables) can be found here: https://icesat.gsfc.nasa.gov/icesat/hdf5_products/data_dicts/GLAH12_data_dict.html. \n",
    "\n",
    "To look at the data, I start by importing a series of modules that will be useful for reading and plotting the data."
   ]
  },
  {
   "cell_type": "code",
   "execution_count": 12,
   "id": "ef44d80a-a728-4b12-9961-de0394eafc4e",
   "metadata": {},
   "outputs": [
    {
     "name": "stdout",
     "output_type": "stream",
     "text": [
      "GLAH12_634_1102_001_0085_0_01_0001.H5\n"
     ]
    }
   ],
   "source": [
    "import sys\n",
    "sys.path.append('/mnt/data01/Code/')\n",
    "import NDH_Tools as ndh\n",
    "import glob\n",
    "import matplotlib.pyplot as plt\n",
    "\n",
    "fn = glob.glob('*.H5')\n",
    "print(fn[0])"
   ]
  },
  {
   "cell_type": "markdown",
   "id": "d37eea44-14a4-4461-b4a9-657e40daa595",
   "metadata": {},
   "source": [
    "### The following cell uses a generic hdf5 reader that I've written to read in the data.\n",
    "That function allows you to provide specific keys, and only load those keys of interest:"
   ]
  },
  {
   "cell_type": "code",
   "execution_count": 11,
   "id": "d283b19e-681e-45d8-8dfd-c5442c37e8b2",
   "metadata": {},
   "outputs": [],
   "source": [
    "ds_dict,orig_dict = ndh.read_h5(fn[0],keylist=['Data_40HZ'],verbose_flag=0)"
   ]
  },
  {
   "cell_type": "code",
   "execution_count": 14,
   "id": "1bff95e4-322f-4fda-9d67-57eb8fb47654",
   "metadata": {},
   "outputs": [
    {
     "name": "stdout",
     "output_type": "stream",
     "text": [
      "dict_keys(['Atmosphere', 'DS_DEMhiresArElv', 'DS_UTCTime_40', 'Elevation_Angles', 'Elevation_Corrections', 'Elevation_Flags', 'Elevation_Offsets', 'Elevation_Surfaces', 'Geolocation', 'Geophysical', 'Quality', 'Reflectivity', 'Time', 'Transmit_Energy', 'Waveform'])\n",
      "dict_keys(['d_IceSVar', 'd_elev', 'd_refRng'])\n",
      "dict_keys(['d_ElevBiasCorr', 'd_GmC', 'd_dTrop', 'd_satElevCorr', 'd_wTrop'])\n",
      "dict_keys(['d_lat', 'd_lon'])\n"
     ]
    }
   ],
   "source": [
    "print(ds_dict['Data_40HZ'].keys())\n",
    "print(ds_dict['Data_40HZ']['Elevation_Surfaces'].keys())\n",
    "print(ds_dict['Data_40HZ']['Elevation_Corrections'].keys())\n",
    "print(ds_dict['Data_40HZ']['Geolocation'].keys())"
   ]
  },
  {
   "cell_type": "markdown",
   "id": "a33f8518-c835-479e-9cff-2f85358f3ac5",
   "metadata": {},
   "source": [
    "_\n",
    "<br><br>\n",
    "An important note aabout ICESat data -- corrections for tides and the atmosphere are already applied, but a correction for saturation effects must be applied after the fact. That correction is in the 'Elevation_Corrections' group. Below is the text from the data dictionary:\n",
    "<br><br>\n",
    "Surface elevation with respect to the ellipsoid at the spot location determined by the ice-sheet specific range after instrument corrections, atmospheric delays and tides have been applied. The saturation elevation correction (d_satElevCorr) has not been applied and needs to be added to this elevation. This can be over a one meter correction. If it is invalid then the elevation should not be used. The saturation correction flag (sat_corr_flg) is an important flag to understand the possible quality of the elevation data. The saturation index (i_satNdx) can be used for more understanding of concerns on data quality from saturation effects. Also no correction for pulse spreading from forward scatter has been applied.\n",
    "<br><br>\n",
    " _"
   ]
  },
  {
   "cell_type": "code",
   "execution_count": null,
   "id": "a30ed1e9-5fa5-4166-af4e-9668bebe426c",
   "metadata": {},
   "outputs": [],
   "source": []
  }
 ],
 "metadata": {
  "kernelspec": {
   "display_name": "Python 3 (ipykernel)",
   "language": "python",
   "name": "python3"
  },
  "language_info": {
   "codemirror_mode": {
    "name": "ipython",
    "version": 3
   },
   "file_extension": ".py",
   "mimetype": "text/x-python",
   "name": "python",
   "nbconvert_exporter": "python",
   "pygments_lexer": "ipython3",
   "version": "3.8.10"
  }
 },
 "nbformat": 4,
 "nbformat_minor": 5
}
