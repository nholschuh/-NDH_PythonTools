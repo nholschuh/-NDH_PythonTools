{
 "cells": [
  {
   "cell_type": "code",
   "execution_count": 24,
   "id": "d8134c50-6e10-43cf-acb9-daf506d19b70",
   "metadata": {},
   "outputs": [],
   "source": [
    "import matplotlib.pyplot as plt\n",
    "import numpy as np\n",
    "import rioxarray as rxr\n",
    "import xarray as xr\n",
    "from scipy.io import loadmat\n",
    "import mat\n",
    "\n",
    "import glob\n",
    "\n",
    "import sys\n",
    "sys.path.append('/mnt/data01/Code/')\n",
    "import NDH_Tools as ndh\n"
   ]
  },
  {
   "cell_type": "code",
   "execution_count": 26,
   "id": "5a4a93ed-c481-40a9-a655-90963bdce0e1",
   "metadata": {},
   "outputs": [
    {
     "data": {
      "text/plain": [
       "array([[7.59770657e-06, 7.64772271e-06, 7.69773884e-06, ...,\n",
       "        5.91643410e-05, 5.92143571e-05, 5.92643732e-05]])"
      ]
     },
     "execution_count": 26,
     "metadata": {},
     "output_type": "execute_result"
    }
   ],
   "source": [
    "target_file = '/mnt/data01/Data/RadarData/Antarctica/2005_Antarctica_GPRWAIS/CSARP_standard/20060103_01/Data_20060103_01_001.mat'\n",
    "\n",
    "file_opts = glob.glob(target_file[0:-24]+'*.mat')\n",
    "data = loadmat(file_opts[2])\n",
    "data['Time']"
   ]
  },
  {
   "cell_type": "code",
   "execution_count": 13,
   "id": "aaa88dc5-6028-46b0-bdcf-7831de601f80",
   "metadata": {},
   "outputs": [
    {
     "data": {
      "text/plain": [
       "['__builtins__',\n",
       " '__cached__',\n",
       " '__doc__',\n",
       " '__file__',\n",
       " '__loader__',\n",
       " '__name__',\n",
       " '__package__',\n",
       " '__path__',\n",
       " '__spec__']"
      ]
     },
     "execution_count": 13,
     "metadata": {},
     "output_type": "execute_result"
    }
   ],
   "source": [
    "dir(mat)"
   ]
  },
  {
   "cell_type": "code",
   "execution_count": null,
   "id": "2b865a1b-bd7c-44f7-a63d-561056abacd6",
   "metadata": {},
   "outputs": [],
   "source": []
  }
 ],
 "metadata": {
  "kernelspec": {
   "display_name": "Python 3 (ipykernel)",
   "language": "python",
   "name": "python3"
  },
  "language_info": {
   "codemirror_mode": {
    "name": "ipython",
    "version": 3
   },
   "file_extension": ".py",
   "mimetype": "text/x-python",
   "name": "python",
   "nbconvert_exporter": "python",
   "pygments_lexer": "ipython3",
   "version": "3.8.10"
  }
 },
 "nbformat": 4,
 "nbformat_minor": 5
}
