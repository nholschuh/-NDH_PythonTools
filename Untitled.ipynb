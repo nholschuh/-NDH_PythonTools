{
 "cells": [
  {
   "cell_type": "code",
   "execution_count": 4,
   "id": "14148bd2-6f71-4fe3-8fb1-c16533bf9190",
   "metadata": {},
   "outputs": [],
   "source": [
    "import sys\n",
    "sys.path.append('/mnt/data01/Code/')\n",
    "import NDH_Tools as ndh\n",
    "\n",
    "import mat73"
   ]
  },
  {
   "cell_type": "code",
   "execution_count": 5,
   "id": "07d07ffd-d284-4fd7-8fe0-3c41487eda3f",
   "metadata": {},
   "outputs": [],
   "source": [
    "fn = '/home/nholschuh/Drive/Research_Projects/74_Multipass/PetermannWork/Picking_iPad/Picked/Data_20110429_01_010_fs_25_crop_1065.pdf'\n",
    "\n",
    "\n",
    "local_fn_whole = fn.split('/')[-1]\n",
    "fileparts = local_fn_whole.split('.')[0].split('_')\n",
    "\n",
    "fs = int(fileparts[5])\n",
    "crop = int(fileparts[7])\n",
    "day_seg = '_'.join(fileparts[1:3])\n",
    "local_fn = '_'.join(fileparts[0:4])\n",
    "data_dir = '/mnt/data01/Data/RadarData/CReSIS_Filestructure/ct_data/rds/2011_Greenland_P3/'\n",
    "surf_load = 'CSARP_surf_ndh'\n",
    "fn = data_dir+surf_load+'/'+day_seg+'/'+local_fn+'.mat'"
   ]
  },
  {
   "cell_type": "code",
   "execution_count": 6,
   "id": "ce6643b2-1acf-4cea-b666-a5c8febe7fdd",
   "metadata": {},
   "outputs": [],
   "source": [
    "surf_data = mat73.loadmat(fn)\n",
    "ndh.savemat(surf_data,'test.mat')"
   ]
  },
  {
   "cell_type": "code",
   "execution_count": null,
   "id": "862a104c-a9aa-44e3-bd88-2b08c9e3c6d0",
   "metadata": {},
   "outputs": [],
   "source": [
    "!ls /mnt/data01/Data/RadarData/CReSIS_Filestructure/ct_data/rds/2011_Greenland_P3/CSARP_surf_ndh/20110429_01/"
   ]
  },
  {
   "cell_type": "code",
   "execution_count": null,
   "id": "ee60fdb1-1aae-41e1-a135-bccefa835e3e",
   "metadata": {},
   "outputs": [],
   "source": [
    "scipy.io.loadmat(fn)"
   ]
  },
  {
   "cell_type": "code",
   "execution_count": null,
   "id": "d94cf1f1-6b82-41a7-926b-537bacffc72c",
   "metadata": {},
   "outputs": [],
   "source": [
    "data = read_h5(fn)\n",
    "data"
   ]
  },
  {
   "cell_type": "code",
   "execution_count": null,
   "id": "bd7251ce-c037-485c-88ab-48c08ec9f8a1",
   "metadata": {},
   "outputs": [],
   "source": [
    "data = mat73.loadmat(fn)"
   ]
  },
  {
   "cell_type": "code",
   "execution_count": null,
   "id": "77250c20-1682-4d7e-9f8f-42bb259511c9",
   "metadata": {},
   "outputs": [],
   "source": [
    "data"
   ]
  },
  {
   "cell_type": "code",
   "execution_count": null,
   "id": "27e3dd33-6962-4482-bdf2-2befd813a4ad",
   "metadata": {},
   "outputs": [],
   "source": []
  }
 ],
 "metadata": {
  "kernelspec": {
   "display_name": "Python 3 (ipykernel)",
   "language": "python",
   "name": "python3"
  },
  "language_info": {
   "codemirror_mode": {
    "name": "ipython",
    "version": 3
   },
   "file_extension": ".py",
   "mimetype": "text/x-python",
   "name": "python",
   "nbconvert_exporter": "python",
   "pygments_lexer": "ipython3",
   "version": "3.8.10"
  },
  "widgets": {
   "application/vnd.jupyter.widget-state+json": {
    "state": {},
    "version_major": 2,
    "version_minor": 0
   }
  }
 },
 "nbformat": 4,
 "nbformat_minor": 5
}
